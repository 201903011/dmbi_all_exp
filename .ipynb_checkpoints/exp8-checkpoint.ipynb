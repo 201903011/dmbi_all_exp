{
 "cells": [
  {
   "cell_type": "markdown",
   "id": "f7ce16e9",
   "metadata": {},
   "source": [
    "Name    : Rahul Kishor Gaikwad\n",
    "Roll No : 10\n",
    "Subject : BI Lab"
   ]
  },
  {
   "cell_type": "markdown",
   "id": "c2d9277e",
   "metadata": {},
   "source": [
    "#                                                      Experiment 8"
   ]
  },
  {
   "cell_type": "markdown",
   "id": "4bcd5273",
   "metadata": {},
   "source": [
    "# Aim :"
   ]
  },
  {
   "cell_type": "markdown",
   "id": "a790544d",
   "metadata": {},
   "source": [
    "Implementation of association mining using python"
   ]
  },
  {
   "cell_type": "markdown",
   "id": "82486bad",
   "metadata": {},
   "source": [
    "# Theory :"
   ]
  },
  {
   "cell_type": "markdown",
   "id": "c98e5f10",
   "metadata": {},
   "source": [
    "Association Rule\n",
    "\n",
    "Association rule mining finds interesting associations and relationships among large sets of data items. This rule shows how frequently a itemset occurs in a transaction. A typical example is Market Based Analysis.\n",
    "\n",
    "Market Based Analysis is one of the key techniques used by large relations to show associations between items.It allows retailers to identify relationships between the items that people buy together frequently.\n",
    "\n",
    "Given a set of transactions, we can find rules that will predict the occurrence of an item based on the occurrences of other items in the transaction.\n",
    "\n",
    "TID\tItems\n",
    "\n",
    "1\tBread, Milk\n",
    "\n",
    "2\tBread, Diaper, Beer, Eggs\n",
    "\n",
    "3\tMilk, Diaper, Beer, Coke\n",
    "\n",
    "4\tBread, Milk, Diaper, Beer\n",
    "\n",
    "5\tBread, Milk, Diaper, Coke\n",
    "\n",
    "Before we start defining the rule, let us first see the basic definitions.\n",
    "\n",
    "Support Count(\\sigma) – Frequency of occurrence of a itemset.\n",
    "\n",
    "Here \\sigma({Milk, Bread, Diaper})=2 \n",
    "\n",
    "Frequent Itemset – An itemset whose support is greater than or equal to minsup threshold.\n",
    "\n",
    "Association Rule – An implication expression of the form X -> Y, where X and Y are any 2 itemsets.\n",
    "\n",
    "Example: {Milk, Diaper}->{Beer} \n",
    "\n",
    "Rule Evaluation Metrics –\n",
    "\n",
    "1. Support(s) –\n",
    "The number of transactions that include items in the {X} and {Y} parts of the rule as a percentage of the total number of transaction.It is a measure of how frequently the collection of items occur together as a percentage of all transactions.\n",
    "Support = \\sigma(X+Y) \\div total –\n",
    "It is interpreted as fraction of transactions that contain both X and Y.\n",
    "2. Confidence(c) –\n",
    "It is the ratio of the no of transactions that includes all items in {B} as well as the no of transactions that includes all items in {A} to the no of transactions that includes all items in {A}.\n",
    "Conf(X=>Y) = Supp(X\\cupY) \\div Supp(X) –\n",
    "It measures how often each item in Y appears in transactions that contains items in X also.\n",
    "3. Lift(l) –\n",
    "The lift of the rule X=>Y is the confidence of the rule divided by the expected confidence, assuming that the itemsets X and Y are independent of each other.The expected confidence is the confidence divided by the frequency of {Y}.\n",
    "4. Lift(X=>Y) = Conf(X=>Y) \\div Supp(Y) –\n",
    "Lift value near 1 indicates X and Y almost often appear together as expected, greater than 1 means they appear together more than expected and less than 1 means they appear less than expected.Greater lift values indicate stronger association.\n",
    "\n",
    "Apriori algorithm \n",
    "\n",
    "Apriori algorithm is given by R. Agrawal and R. Srikant in 1994 for finding frequent itemsets in a dataset for boolean association rule. Name of the algorithm is Apriori because it uses prior knowledge of frequent itemset properties. We apply an iterative approach or level-wise search where k-frequent itemsets are used to find k+1 itemsets.\n",
    "\n",
    "To improve the efficiency of level-wise generation of frequent itemsets, an important property is used called Apriori property which helps by reducing the search space.\n",
    "\n",
    "Apriori Property –\n",
    "All non-empty subset of frequent itemset must be frequent. The key concept of Apriori algorithm is its anti-monotonicity of support measure. Apriori assumes that\n",
    "\n",
    "All subsets of a frequent itemset must be frequent(Apriori property).\n",
    "If an itemset is infrequent, all its supersets will be infrequent."
   ]
  },
  {
   "cell_type": "markdown",
   "id": "2e100c86",
   "metadata": {},
   "source": [
    "# Code :"
   ]
  },
  {
   "cell_type": "code",
   "execution_count": 8,
   "id": "4d04862e",
   "metadata": {},
   "outputs": [
    {
     "name": "stdout",
     "output_type": "stream",
     "text": [
      "C:\\Users\\Rahul\\Desktop\\dmbi\\all_exp\n"
     ]
    }
   ],
   "source": [
    "import numpy as np\n",
    "import pandas as pd\n",
    "from mlxtend.frequent_patterns import apriori, association_rules\n",
    "import os\n",
    "print(os.getcwd())"
   ]
  },
  {
   "cell_type": "code",
   "execution_count": 9,
   "id": "a8fd3ab8",
   "metadata": {},
   "outputs": [
    {
     "data": {
      "text/html": [
       "<div>\n",
       "<style scoped>\n",
       "    .dataframe tbody tr th:only-of-type {\n",
       "        vertical-align: middle;\n",
       "    }\n",
       "\n",
       "    .dataframe tbody tr th {\n",
       "        vertical-align: top;\n",
       "    }\n",
       "\n",
       "    .dataframe thead th {\n",
       "        text-align: right;\n",
       "    }\n",
       "</style>\n",
       "<table border=\"1\" class=\"dataframe\">\n",
       "  <thead>\n",
       "    <tr style=\"text-align: right;\">\n",
       "      <th></th>\n",
       "      <th>InvoiceNo</th>\n",
       "      <th>StockCode</th>\n",
       "      <th>Description</th>\n",
       "      <th>Quantity</th>\n",
       "      <th>InvoiceDate</th>\n",
       "      <th>UnitPrice</th>\n",
       "      <th>CustomerID</th>\n",
       "      <th>Country</th>\n",
       "    </tr>\n",
       "  </thead>\n",
       "  <tbody>\n",
       "    <tr>\n",
       "      <th>0</th>\n",
       "      <td>536365</td>\n",
       "      <td>85123A</td>\n",
       "      <td>WHITE HANGING HEART T-LIGHT HOLDER</td>\n",
       "      <td>6</td>\n",
       "      <td>2010-12-01 08:26:00</td>\n",
       "      <td>2.55</td>\n",
       "      <td>17850.0</td>\n",
       "      <td>United Kingdom</td>\n",
       "    </tr>\n",
       "    <tr>\n",
       "      <th>1</th>\n",
       "      <td>536365</td>\n",
       "      <td>71053</td>\n",
       "      <td>WHITE METAL LANTERN</td>\n",
       "      <td>6</td>\n",
       "      <td>2010-12-01 08:26:00</td>\n",
       "      <td>3.39</td>\n",
       "      <td>17850.0</td>\n",
       "      <td>United Kingdom</td>\n",
       "    </tr>\n",
       "    <tr>\n",
       "      <th>2</th>\n",
       "      <td>536365</td>\n",
       "      <td>84406B</td>\n",
       "      <td>CREAM CUPID HEARTS COAT HANGER</td>\n",
       "      <td>8</td>\n",
       "      <td>2010-12-01 08:26:00</td>\n",
       "      <td>2.75</td>\n",
       "      <td>17850.0</td>\n",
       "      <td>United Kingdom</td>\n",
       "    </tr>\n",
       "    <tr>\n",
       "      <th>3</th>\n",
       "      <td>536365</td>\n",
       "      <td>84029G</td>\n",
       "      <td>KNITTED UNION FLAG HOT WATER BOTTLE</td>\n",
       "      <td>6</td>\n",
       "      <td>2010-12-01 08:26:00</td>\n",
       "      <td>3.39</td>\n",
       "      <td>17850.0</td>\n",
       "      <td>United Kingdom</td>\n",
       "    </tr>\n",
       "    <tr>\n",
       "      <th>4</th>\n",
       "      <td>536365</td>\n",
       "      <td>84029E</td>\n",
       "      <td>RED WOOLLY HOTTIE WHITE HEART.</td>\n",
       "      <td>6</td>\n",
       "      <td>2010-12-01 08:26:00</td>\n",
       "      <td>3.39</td>\n",
       "      <td>17850.0</td>\n",
       "      <td>United Kingdom</td>\n",
       "    </tr>\n",
       "  </tbody>\n",
       "</table>\n",
       "</div>"
      ],
      "text/plain": [
       "  InvoiceNo StockCode                          Description  Quantity  \\\n",
       "0    536365    85123A   WHITE HANGING HEART T-LIGHT HOLDER         6   \n",
       "1    536365     71053                  WHITE METAL LANTERN         6   \n",
       "2    536365    84406B       CREAM CUPID HEARTS COAT HANGER         8   \n",
       "3    536365    84029G  KNITTED UNION FLAG HOT WATER BOTTLE         6   \n",
       "4    536365    84029E       RED WOOLLY HOTTIE WHITE HEART.         6   \n",
       "\n",
       "          InvoiceDate  UnitPrice  CustomerID         Country  \n",
       "0 2010-12-01 08:26:00       2.55     17850.0  United Kingdom  \n",
       "1 2010-12-01 08:26:00       3.39     17850.0  United Kingdom  \n",
       "2 2010-12-01 08:26:00       2.75     17850.0  United Kingdom  \n",
       "3 2010-12-01 08:26:00       3.39     17850.0  United Kingdom  \n",
       "4 2010-12-01 08:26:00       3.39     17850.0  United Kingdom  "
      ]
     },
     "execution_count": 9,
     "metadata": {},
     "output_type": "execute_result"
    }
   ],
   "source": [
    "data = pd.read_excel('./data/Online_Retail.xlsx')\n",
    "data.head()"
   ]
  },
  {
   "cell_type": "code",
   "execution_count": 10,
   "id": "3c5159af",
   "metadata": {},
   "outputs": [
    {
     "data": {
      "text/plain": [
       "Index(['InvoiceNo', 'StockCode', 'Description', 'Quantity', 'InvoiceDate',\n",
       "       'UnitPrice', 'CustomerID', 'Country'],\n",
       "      dtype='object')"
      ]
     },
     "execution_count": 10,
     "metadata": {},
     "output_type": "execute_result"
    }
   ],
   "source": [
    "data.columns"
   ]
  },
  {
   "cell_type": "code",
   "execution_count": 11,
   "id": "24dc4a38",
   "metadata": {},
   "outputs": [
    {
     "data": {
      "text/plain": [
       "array(['United Kingdom', 'France', 'Australia', 'Netherlands', 'Germany',\n",
       "       'Norway', 'EIRE', 'Switzerland', 'Spain', 'Poland', 'Portugal',\n",
       "       'Italy', 'Belgium', 'Lithuania', 'Japan', 'Iceland',\n",
       "       'Channel Islands', 'Denmark', 'Cyprus', 'Sweden', 'Austria',\n",
       "       'Israel', 'Finland', 'Bahrain', 'Greece', 'Hong Kong', 'Singapore',\n",
       "       'Lebanon', 'United Arab Emirates', 'Saudi Arabia',\n",
       "       'Czech Republic', 'Canada', 'Unspecified', 'Brazil', 'USA',\n",
       "       'European Community', 'Malta', 'RSA'], dtype=object)"
      ]
     },
     "execution_count": 11,
     "metadata": {},
     "output_type": "execute_result"
    }
   ],
   "source": [
    "data.Country.unique()"
   ]
  },
  {
   "cell_type": "code",
   "execution_count": 12,
   "id": "76ba52e1",
   "metadata": {},
   "outputs": [],
   "source": [
    "data['Description'] = data['Description'].str.strip()\n",
    " \n",
    "data.dropna(axis = 0, subset =['InvoiceNo'], inplace = True)\n",
    "data['InvoiceNo'] = data['InvoiceNo'].astype('str')\n",
    "\n",
    "data = data[~data['InvoiceNo'].str.contains('C')]"
   ]
  },
  {
   "cell_type": "code",
   "execution_count": 13,
   "id": "20373ca2",
   "metadata": {},
   "outputs": [],
   "source": [
    "basket_France = (data[data['Country'] ==\"France\"]\n",
    "          .groupby(['InvoiceNo', 'Description'])['Quantity']\n",
    "          .sum().unstack().reset_index().fillna(0)\n",
    "          .set_index('InvoiceNo'))\n",
    " \n",
    "# Transactions done in the United Kingdom\n",
    "basket_UK = (data[data['Country'] ==\"United Kingdom\"]\n",
    "          .groupby(['InvoiceNo', 'Description'])['Quantity']\n",
    "          .sum().unstack().reset_index().fillna(0)\n",
    "          .set_index('InvoiceNo'))\n",
    " \n",
    "# Transactions done in Portugal\n",
    "basket_Por = (data[data['Country'] ==\"Portugal\"]\n",
    "          .groupby(['InvoiceNo', 'Description'])['Quantity']\n",
    "          .sum().unstack().reset_index().fillna(0)\n",
    "          .set_index('InvoiceNo'))\n",
    " \n",
    "basket_Sweden = (data[data['Country'] ==\"Sweden\"]\n",
    "          .groupby(['InvoiceNo', 'Description'])['Quantity']\n",
    "          .sum().unstack().reset_index().fillna(0)\n",
    "          .set_index('InvoiceNo'))"
   ]
  },
  {
   "cell_type": "code",
   "execution_count": 14,
   "id": "ee84bef5",
   "metadata": {},
   "outputs": [],
   "source": [
    "def hot_encode(x):\n",
    "    if(x<= 0):\n",
    "        return 0\n",
    "    if(x>= 1):\n",
    "        return 1\n",
    " \n",
    "# Encoding the datasets\n",
    "basket_encoded = basket_France.applymap(hot_encode)\n",
    "basket_France = basket_encoded\n",
    " \n",
    "basket_encoded = basket_UK.applymap(hot_encode)\n",
    "basket_UK = basket_encoded\n",
    " \n",
    "basket_encoded = basket_Por.applymap(hot_encode)\n",
    "basket_Por = basket_encoded\n",
    " \n",
    "basket_encoded = basket_Sweden.applymap(hot_encode)\n",
    "basket_Sweden = basket_encoded"
   ]
  },
  {
   "cell_type": "code",
   "execution_count": 15,
   "id": "9ea11ca7",
   "metadata": {},
   "outputs": [
    {
     "name": "stdout",
     "output_type": "stream",
     "text": [
      "                                           antecedents  \\\n",
      "45                        (JUMBO BAG WOODLAND ANIMALS)   \n",
      "260  (PLASTERS IN TIN CIRCUS PARADE, RED TOADSTOOL ...   \n",
      "272  (RED TOADSTOOL LED NIGHT LIGHT, PLASTERS IN TI...   \n",
      "302  (SET/6 RED SPOTTY PAPER CUPS, SET/20 RED RETRO...   \n",
      "301  (SET/6 RED SPOTTY PAPER PLATES, SET/20 RED RET...   \n",
      "\n",
      "                         consequents  antecedent support  consequent support  \\\n",
      "45                         (POSTAGE)            0.076531            0.765306   \n",
      "260                        (POSTAGE)            0.051020            0.765306   \n",
      "272                        (POSTAGE)            0.053571            0.765306   \n",
      "302  (SET/6 RED SPOTTY PAPER PLATES)            0.102041            0.127551   \n",
      "301    (SET/6 RED SPOTTY PAPER CUPS)            0.102041            0.137755   \n",
      "\n",
      "      support  confidence      lift  leverage  conviction  \n",
      "45   0.076531       1.000  1.306667  0.017961         inf  \n",
      "260  0.051020       1.000  1.306667  0.011974         inf  \n",
      "272  0.053571       1.000  1.306667  0.012573         inf  \n",
      "302  0.099490       0.975  7.644000  0.086474   34.897959  \n",
      "301  0.099490       0.975  7.077778  0.085433   34.489796  \n"
     ]
    }
   ],
   "source": [
    "\n",
    "frq_items = apriori(basket_France, min_support = 0.05, use_colnames = True)\n",
    "\n",
    "rules = association_rules(frq_items, metric =\"lift\", min_threshold = 1)\n",
    "rules = rules.sort_values(['confidence', 'lift'], ascending =[False, False])\n",
    "print(rules.head())\n"
   ]
  },
  {
   "cell_type": "code",
   "execution_count": 17,
   "id": "6480ea1b",
   "metadata": {},
   "outputs": [
    {
     "name": "stdout",
     "output_type": "stream",
     "text": [
      "                             antecedents                          consequents  \\\n",
      "1170  (SET 12 COLOUR PENCILS DOLLY GIRL)     (SET 12 COLOUR PENCILS SPACEBOY)   \n",
      "1171    (SET 12 COLOUR PENCILS SPACEBOY)   (SET 12 COLOUR PENCILS DOLLY GIRL)   \n",
      "1172  (SET 12 COLOUR PENCILS DOLLY GIRL)   (SET OF 4 KNICK KNACK TINS LONDON)   \n",
      "1173  (SET OF 4 KNICK KNACK TINS LONDON)   (SET 12 COLOUR PENCILS DOLLY GIRL)   \n",
      "1174  (SET 12 COLOUR PENCILS DOLLY GIRL)  (SET OF 4 KNICK KNACK TINS POPPIES)   \n",
      "\n",
      "      antecedent support  consequent support   support  confidence       lift  \\\n",
      "1170            0.051724            0.051724  0.051724         1.0  19.333333   \n",
      "1171            0.051724            0.051724  0.051724         1.0  19.333333   \n",
      "1172            0.051724            0.051724  0.051724         1.0  19.333333   \n",
      "1173            0.051724            0.051724  0.051724         1.0  19.333333   \n",
      "1174            0.051724            0.051724  0.051724         1.0  19.333333   \n",
      "\n",
      "      leverage  conviction  \n",
      "1170  0.049049         inf  \n",
      "1171  0.049049         inf  \n",
      "1172  0.049049         inf  \n",
      "1173  0.049049         inf  \n",
      "1174  0.049049         inf  \n"
     ]
    }
   ],
   "source": [
    "frq_items = apriori(basket_Por, min_support = 0.05, use_colnames = True)\n",
    "rules = association_rules(frq_items, metric =\"lift\", min_threshold = 1)\n",
    "rules = rules.sort_values(['confidence', 'lift'], ascending =[False, False])\n",
    "print(rules.head())"
   ]
  },
  {
   "cell_type": "code",
   "execution_count": 18,
   "id": "417e49d2",
   "metadata": {},
   "outputs": [
    {
     "name": "stdout",
     "output_type": "stream",
     "text": [
      "                        antecedents                        consequents  \\\n",
      "0     (PACK OF 72 SKULL CAKE CASES)      (12 PENCILS SMALL TUBE SKULL)   \n",
      "1     (12 PENCILS SMALL TUBE SKULL)      (PACK OF 72 SKULL CAKE CASES)   \n",
      "4           (36 DOILIES DOLLY GIRL)     (ASSORTED BOTTLE TOP  MAGNETS)   \n",
      "5    (ASSORTED BOTTLE TOP  MAGNETS)            (36 DOILIES DOLLY GIRL)   \n",
      "180  (CHILDRENS CUTLERY DOLLY GIRL)  (CHILDRENS CUTLERY CIRCUS PARADE)   \n",
      "\n",
      "     antecedent support  consequent support   support  confidence  lift  \\\n",
      "0              0.055556            0.055556  0.055556         1.0  18.0   \n",
      "1              0.055556            0.055556  0.055556         1.0  18.0   \n",
      "4              0.055556            0.055556  0.055556         1.0  18.0   \n",
      "5              0.055556            0.055556  0.055556         1.0  18.0   \n",
      "180            0.055556            0.055556  0.055556         1.0  18.0   \n",
      "\n",
      "     leverage  conviction  \n",
      "0    0.052469         inf  \n",
      "1    0.052469         inf  \n",
      "4    0.052469         inf  \n",
      "5    0.052469         inf  \n",
      "180  0.052469         inf  \n"
     ]
    }
   ],
   "source": [
    "frq_items = apriori(basket_Sweden, min_support = 0.05, use_colnames = True)\n",
    "rules = association_rules(frq_items, metric =\"lift\", min_threshold = 1)\n",
    "rules = rules.sort_values(['confidence', 'lift'], ascending =[False, False])\n",
    "print(rules.head())"
   ]
  },
  {
   "cell_type": "markdown",
   "id": "c48a662b",
   "metadata": {},
   "source": [
    "# Conclusion:"
   ]
  },
  {
   "cell_type": "markdown",
   "id": "db4ac3e5",
   "metadata": {},
   "source": [
    "Hence we suuccessfully learn association mining using apriori algorithm."
   ]
  }
 ],
 "metadata": {
  "kernelspec": {
   "display_name": "Python 3",
   "language": "python",
   "name": "python3"
  },
  "language_info": {
   "codemirror_mode": {
    "name": "ipython",
    "version": 3
   },
   "file_extension": ".py",
   "mimetype": "text/x-python",
   "name": "python",
   "nbconvert_exporter": "python",
   "pygments_lexer": "ipython3",
   "version": "3.9.2"
  }
 },
 "nbformat": 4,
 "nbformat_minor": 5
}
