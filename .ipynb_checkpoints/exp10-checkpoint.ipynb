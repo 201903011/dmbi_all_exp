{
 "cells": [
  {
   "cell_type": "markdown",
   "id": "f7ce16e9",
   "metadata": {},
   "source": [
    "Name    : Rahul Kishor Gaikwad\n",
    "Roll No : 10\n",
    "Subject : BI Lab"
   ]
  },
  {
   "cell_type": "markdown",
   "id": "c2d9277e",
   "metadata": {},
   "source": [
    "#                                                      Experiment 10"
   ]
  },
  {
   "cell_type": "markdown",
   "id": "4bcd5273",
   "metadata": {},
   "source": [
    "# Aim :"
   ]
  },
  {
   "cell_type": "markdown",
   "id": "a790544d",
   "metadata": {},
   "source": [
    "To Design Star and Snowflake Schema"
   ]
  },
  {
   "cell_type": "markdown",
   "id": "82486bad",
   "metadata": {},
   "source": [
    "# Theory :"
   ]
  },
  {
   "cell_type": "markdown",
   "id": "2e100c86",
   "metadata": {},
   "source": [
    "# Code :"
   ]
  },
  {
   "cell_type": "markdown",
   "id": "c48a662b",
   "metadata": {},
   "source": [
    "# Conclusion:"
   ]
  }
 ],
 "metadata": {
  "kernelspec": {
   "display_name": "Python 3",
   "language": "python",
   "name": "python3"
  },
  "language_info": {
   "codemirror_mode": {
    "name": "ipython",
    "version": 3
   },
   "file_extension": ".py",
   "mimetype": "text/x-python",
   "name": "python",
   "nbconvert_exporter": "python",
   "pygments_lexer": "ipython3",
   "version": "3.9.2"
  }
 },
 "nbformat": 4,
 "nbformat_minor": 5
}
