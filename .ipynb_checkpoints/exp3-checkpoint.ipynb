{
 "cells": [
  {
   "cell_type": "markdown",
   "id": "f7ce16e9",
   "metadata": {},
   "source": [
    "Name    : Rahul Kishor Gaikwad\n",
    "Roll No : 10\n",
    "Subject : BI Lab"
   ]
  },
  {
   "cell_type": "markdown",
   "id": "c2d9277e",
   "metadata": {},
   "source": [
    "#                                                      Experiment 3"
   ]
  },
  {
   "cell_type": "markdown",
   "id": "4bcd5273",
   "metadata": {},
   "source": [
    "# Aim :"
   ]
  },
  {
   "cell_type": "markdown",
   "id": "a790544d",
   "metadata": {},
   "source": [
    "Implementing Data Exploration and Data preprocessing using Python"
   ]
  },
  {
   "cell_type": "markdown",
   "id": "82486bad",
   "metadata": {},
   "source": [
    "# Theory :"
   ]
  },
  {
   "attachments": {
    "image.png": {
     "image/png": "[encoded data removed]"
    }
   },
   "cell_type": "markdown",
   "id": "7f888877",
   "metadata": {},
   "source": [
    "What is Data Exploration?\n",
    "\n",
    "Data exploration is the first step of data analysis used to explore and visualize data to uncover insights from the start or identify areas or patterns to dig into more. Using interactive dashboards and point-and-click data exploration, users can better understand the bigger picture and get to insights faster.\n",
    "\n",
    "Why is Data Exploration Important?\n",
    "\n",
    "Starting with data exploration helps users to make better decisions on where to dig deeper into the data and to take a broad understanding of the business when asking more detailed questions later. With a user-friendly interface, anyone across an organization can familiarize themselves with the data, discover patterns, and generate thoughtful questions that may spur on deeper, valuable analysis.\n",
    "Data exploration and visual analytics tools build understanding, empowering users to explore data in any visualization. This approach speeds up time to answers and deepens users’ understanding by covering more ground in less time. Data exploration is important for this reason because it democratizes access to data and provides governed self-service analytics. Furthermore, businesses can accelerate data exploration by provisioning and delivering data through visual data marts that are easy to explore and use.\n",
    "\n",
    "What are the Main Use Cases for Data Exploration?\n",
    "\n",
    "Data exploration can help businesses explore large amounts of data quickly to better understand next steps in terms of further analysis. This gives the business a more manageable starting point and a way to target areas of interest. In most cases, data exploration involves using data visualizations to examine the data at a high level. By taking this high-level approach, businesses can determine which data is most important and which may distort the analysis and therefore should be removed. Data exploration can also be helpful in decreasing time spent on less valuable analysis by selecting the right path forward from the start.\n",
    "\n",
    "Preprocessing in Data Mining: \n",
    "\n",
    "Data preprocessing is a data mining technique which is used to transform the raw data in a useful and efficient format. \n",
    "\n",
    " \n",
    "![image.png](attachment:image.png)\n",
    "\n",
    "\n",
    "Steps Involved in Data Preprocessing: \n",
    "\n",
    "1. Data Cleaning: \n",
    "\n",
    "The data can have many irrelevant and missing parts. To handle this part, data cleaning is done. It involves handling of missing data, noisy data etc. \n",
    " \n",
    "\n",
    "(a). Missing Data: \n",
    "\n",
    "This situation arises when some data is missing in the data. It can be handled in various ways. \n",
    "Some of them are: \n",
    "Ignore the tuples: \n",
    "This approach is suitable only when the dataset we have is quite large and multiple values are missing within a tuple. \n",
    " \n",
    "Fill the Missing values: \n",
    "There are various ways to do this task. You can choose to fill the missing values manually, by attribute mean or the most probable value. \n",
    " \n",
    "(b). Noisy Data: \n",
    "\n",
    "Noisy data is a meaningless data that can’t be interpreted by machines.It can be generated due to faulty data collection, data entry errors etc. It can be handled in following ways : \n",
    "Binning Method: \n",
    "This method works on sorted data in order to smooth it. The whole data is divided into segments of equal size and then various methods are performed to complete the task. Each segmented is handled separately. One can replace all data in a segment by its mean or boundary values can be used to complete the task. \n",
    " \n",
    "Regression: \n",
    "\n",
    "Here data can be made smooth by fitting it to a regression function.The regression used may be linear (having one independent variable) or multiple (having multiple independent variables). \n",
    " \n",
    "Clustering: \n",
    "\n",
    "This approach groups the similar data in a cluster. The outliers may be undetected or it will fall outside the clusters. \n",
    "2. Data Transformation: \n",
    "This step is taken in order to transform the data in appropriate forms suitable for mining process. This involves following ways: \n",
    "\n",
    "Normalization: \n",
    "\n",
    "It is done in order to scale the data values in a specified range (-1.0 to 1.0 or 0.0 to 1.0) \n",
    " \n",
    "Attribute Selection: \n",
    "\n",
    "In this strategy, new attributes are constructed from the given set of attributes to help the mining process. \n",
    " \n",
    "Discretization: \n",
    "\n",
    "This is done to replace the raw values of numeric attribute by interval levels or conceptual levels. \n",
    " \n",
    "Concept Hierarchy Generation: \n",
    "Here attributes are converted from lower level to higher level in hierarchy. For Example-The attribute “city” can be converted to “country”. \n",
    " \n",
    "\n",
    "3. Data Reduction: \n",
    "\n",
    "Since data mining is a technique that is used to handle huge amount of data. While working with huge volume of data, analysis became harder in such cases. In order to get rid of this, we uses data reduction technique. It aims to increase the storage efficiency and reduce data storage and analysis costs. \n",
    "\n",
    "The various steps to data reduction are: \n",
    "\n",
    "Data Cube Aggregation: \n",
    "\n",
    "Aggregation operation is applied to data for the construction of the data cube. \n",
    " \n",
    "Attribute Subset Selection: \n",
    "\n",
    "The highly relevant attributes should be used, rest all can be discarded. For performing attribute selection, one can use level of significance and p- value of the attribute.the attribute having p-value greater than significance level can be discarded. \n",
    " \n",
    "Numerosity Reduction: \n",
    "\n",
    "This enable to store the model of data instead of whole data, for example: Regression Models. \n",
    " \n",
    "Dimensionality Reduction: \n",
    "\n",
    "This reduce the size of data by encoding mechanisms.It can be lossy or lossless. If after reconstruction from compressed data, original data can be retrieved, such reduction are called lossless reduction else it is called lossy reduction. The two effective methods of dimensionality reduction are:Wavelet transforms and PCA (Principal Component Analysis). \n",
    " \n"
   ]
  },
  {
   "cell_type": "markdown",
   "id": "2e100c86",
   "metadata": {},
   "source": [
    "# Code :"
   ]
  },
  {
   "cell_type": "code",
   "execution_count": 3,
   "id": "07aa0138",
   "metadata": {},
   "outputs": [],
   "source": [
    "import pandas as pd\n",
    "import matplotlib.pyplot as plt\n",
    "import os\n"
   ]
  },
  {
   "cell_type": "code",
   "execution_count": 4,
   "id": "bc8f3b90",
   "metadata": {},
   "outputs": [
    {
     "name": "stdout",
     "output_type": "stream",
     "text": [
      "      Unnamed: 0  Price   Age     KM FuelType   HP  MetColor  Automatic    CC  \\\n",
      "0              0  13500  23.0  46986   Diesel   90       1.0          0  2000   \n",
      "1              1  13750  23.0  72937   Diesel   90       1.0          0  2000   \n",
      "2              2  13950  24.0  41711   Diesel   90       NaN          0  2000   \n",
      "3              3  14950  26.0  48000   Diesel   90       0.0          0  2000   \n",
      "4              4  13750  30.0  38500   Diesel   90       0.0          0  2000   \n",
      "...          ...    ...   ...    ...      ...  ...       ...        ...   ...   \n",
      "1431        1431   7500   NaN  20544   Petrol   86       1.0          0  1300   \n",
      "1432        1432  10845  72.0     ??   Petrol   86       0.0          0  1300   \n",
      "1433        1433   8500   NaN  17016   Petrol   86       0.0          0  1300   \n",
      "1434        1434   7250  70.0     ??      NaN   86       1.0          0  1300   \n",
      "1435        1435   6950  76.0      1   Petrol  110       0.0          0  1600   \n",
      "\n",
      "      Doors  Weight  \n",
      "0     three    1165  \n",
      "1         3    1165  \n",
      "2         3    1165  \n",
      "3         3    1165  \n",
      "4         3    1170  \n",
      "...     ...     ...  \n",
      "1431      3    1025  \n",
      "1432      3    1015  \n",
      "1433      3    1015  \n",
      "1434      3    1015  \n",
      "1435      5    1114  \n",
      "\n",
      "[1436 rows x 11 columns]\n"
     ]
    }
   ],
   "source": [
    "test_df = pd.read_csv('./data/Toyota.csv')\n",
    "print(test_df)"
   ]
  },
  {
   "cell_type": "code",
   "execution_count": 6,
   "id": "549c9452",
   "metadata": {},
   "outputs": [
    {
     "name": "stdout",
     "output_type": "stream",
     "text": [
      "<class 'pandas.core.frame.DataFrame'>\n",
      "RangeIndex: 1436 entries, 0 to 1435\n",
      "Data columns (total 11 columns):\n",
      " #   Column      Non-Null Count  Dtype  \n",
      "---  ------      --------------  -----  \n",
      " 0   Unnamed: 0  1436 non-null   int64  \n",
      " 1   Price       1436 non-null   int64  \n",
      " 2   Age         1336 non-null   float64\n",
      " 3   KM          1421 non-null   float64\n",
      " 4   FuelType    1336 non-null   object \n",
      " 5   HP          1430 non-null   float64\n",
      " 6   MetColor    1286 non-null   float64\n",
      " 7   Automatic   1436 non-null   int64  \n",
      " 8   CC          1436 non-null   int64  \n",
      " 9   Doors       1436 non-null   object \n",
      " 10  Weight      1436 non-null   int64  \n",
      "dtypes: float64(4), int64(5), object(2)\n",
      "memory usage: 123.5+ KB\n",
      "None\n"
     ]
    }
   ],
   "source": [
    "cars_data=pd.read_csv('./data/Toyota.csv',na_values=[\"??\",\"????\"])\n",
    "print(cars_data.info())"
   ]
  },
  {
   "cell_type": "code",
   "execution_count": 8,
   "id": "56e2ea2a",
   "metadata": {},
   "outputs": [
    {
     "data": {
      "text/html": [
       "<div>\n",
       "<style scoped>\n",
       "    .dataframe tbody tr th:only-of-type {\n",
       "        vertical-align: middle;\n",
       "    }\n",
       "\n",
       "    .dataframe tbody tr th {\n",
       "        vertical-align: top;\n",
       "    }\n",
       "\n",
       "    .dataframe thead th {\n",
       "        text-align: right;\n",
       "    }\n",
       "</style>\n",
       "<table border=\"1\" class=\"dataframe\">\n",
       "  <thead>\n",
       "    <tr style=\"text-align: right;\">\n",
       "      <th></th>\n",
       "      <th>Unnamed: 0</th>\n",
       "      <th>Price</th>\n",
       "      <th>Age</th>\n",
       "      <th>KM</th>\n",
       "      <th>HP</th>\n",
       "      <th>MetColor</th>\n",
       "      <th>Automatic</th>\n",
       "      <th>CC</th>\n",
       "      <th>Weight</th>\n",
       "    </tr>\n",
       "  </thead>\n",
       "  <tbody>\n",
       "    <tr>\n",
       "      <th>count</th>\n",
       "      <td>1436.000000</td>\n",
       "      <td>1436.000000</td>\n",
       "      <td>1336.000000</td>\n",
       "      <td>1421.000000</td>\n",
       "      <td>1430.000000</td>\n",
       "      <td>1286.000000</td>\n",
       "      <td>1436.000000</td>\n",
       "      <td>1436.000000</td>\n",
       "      <td>1436.00000</td>\n",
       "    </tr>\n",
       "    <tr>\n",
       "      <th>mean</th>\n",
       "      <td>717.500000</td>\n",
       "      <td>10730.824513</td>\n",
       "      <td>55.672156</td>\n",
       "      <td>68647.239972</td>\n",
       "      <td>101.478322</td>\n",
       "      <td>0.674961</td>\n",
       "      <td>0.055710</td>\n",
       "      <td>1566.827994</td>\n",
       "      <td>1072.45961</td>\n",
       "    </tr>\n",
       "    <tr>\n",
       "      <th>std</th>\n",
       "      <td>414.681806</td>\n",
       "      <td>3626.964585</td>\n",
       "      <td>18.589804</td>\n",
       "      <td>37333.023589</td>\n",
       "      <td>14.768255</td>\n",
       "      <td>0.468572</td>\n",
       "      <td>0.229441</td>\n",
       "      <td>187.182436</td>\n",
       "      <td>52.64112</td>\n",
       "    </tr>\n",
       "    <tr>\n",
       "      <th>min</th>\n",
       "      <td>0.000000</td>\n",
       "      <td>4350.000000</td>\n",
       "      <td>1.000000</td>\n",
       "      <td>1.000000</td>\n",
       "      <td>69.000000</td>\n",
       "      <td>0.000000</td>\n",
       "      <td>0.000000</td>\n",
       "      <td>1300.000000</td>\n",
       "      <td>1000.00000</td>\n",
       "    </tr>\n",
       "    <tr>\n",
       "      <th>25%</th>\n",
       "      <td>358.750000</td>\n",
       "      <td>8450.000000</td>\n",
       "      <td>43.000000</td>\n",
       "      <td>43210.000000</td>\n",
       "      <td>90.000000</td>\n",
       "      <td>0.000000</td>\n",
       "      <td>0.000000</td>\n",
       "      <td>1400.000000</td>\n",
       "      <td>1040.00000</td>\n",
       "    </tr>\n",
       "    <tr>\n",
       "      <th>50%</th>\n",
       "      <td>717.500000</td>\n",
       "      <td>9900.000000</td>\n",
       "      <td>60.000000</td>\n",
       "      <td>63634.000000</td>\n",
       "      <td>110.000000</td>\n",
       "      <td>1.000000</td>\n",
       "      <td>0.000000</td>\n",
       "      <td>1600.000000</td>\n",
       "      <td>1070.00000</td>\n",
       "    </tr>\n",
       "    <tr>\n",
       "      <th>75%</th>\n",
       "      <td>1076.250000</td>\n",
       "      <td>11950.000000</td>\n",
       "      <td>70.000000</td>\n",
       "      <td>87000.000000</td>\n",
       "      <td>110.000000</td>\n",
       "      <td>1.000000</td>\n",
       "      <td>0.000000</td>\n",
       "      <td>1600.000000</td>\n",
       "      <td>1085.00000</td>\n",
       "    </tr>\n",
       "    <tr>\n",
       "      <th>max</th>\n",
       "      <td>1435.000000</td>\n",
       "      <td>32500.000000</td>\n",
       "      <td>80.000000</td>\n",
       "      <td>243000.000000</td>\n",
       "      <td>192.000000</td>\n",
       "      <td>1.000000</td>\n",
       "      <td>1.000000</td>\n",
       "      <td>2000.000000</td>\n",
       "      <td>1615.00000</td>\n",
       "    </tr>\n",
       "  </tbody>\n",
       "</table>\n",
       "</div>"
      ],
      "text/plain": [
       "        Unnamed: 0         Price          Age             KM           HP  \\\n",
       "count  1436.000000   1436.000000  1336.000000    1421.000000  1430.000000   \n",
       "mean    717.500000  10730.824513    55.672156   68647.239972   101.478322   \n",
       "std     414.681806   3626.964585    18.589804   37333.023589    14.768255   \n",
       "min       0.000000   4350.000000     1.000000       1.000000    69.000000   \n",
       "25%     358.750000   8450.000000    43.000000   43210.000000    90.000000   \n",
       "50%     717.500000   9900.000000    60.000000   63634.000000   110.000000   \n",
       "75%    1076.250000  11950.000000    70.000000   87000.000000   110.000000   \n",
       "max    1435.000000  32500.000000    80.000000  243000.000000   192.000000   \n",
       "\n",
       "          MetColor    Automatic           CC      Weight  \n",
       "count  1286.000000  1436.000000  1436.000000  1436.00000  \n",
       "mean      0.674961     0.055710  1566.827994  1072.45961  \n",
       "std       0.468572     0.229441   187.182436    52.64112  \n",
       "min       0.000000     0.000000  1300.000000  1000.00000  \n",
       "25%       0.000000     0.000000  1400.000000  1040.00000  \n",
       "50%       1.000000     0.000000  1600.000000  1070.00000  \n",
       "75%       1.000000     0.000000  1600.000000  1085.00000  \n",
       "max       1.000000     1.000000  2000.000000  1615.00000  "
      ]
     },
     "execution_count": 8,
     "metadata": {},
     "output_type": "execute_result"
    }
   ],
   "source": [
    "cars_data1 = cars_data.copy()\n",
    "cars_data1.describe()"
   ]
  },
  {
   "cell_type": "code",
   "execution_count": 9,
   "id": "aed12fb3",
   "metadata": {},
   "outputs": [
    {
     "data": {
      "text/plain": [
       "Unnamed: 0      0\n",
       "Price           0\n",
       "Age           100\n",
       "KM             15\n",
       "FuelType      100\n",
       "HP              6\n",
       "MetColor      150\n",
       "Automatic       0\n",
       "CC              0\n",
       "Doors           0\n",
       "Weight          0\n",
       "dtype: int64"
      ]
     },
     "execution_count": 9,
     "metadata": {},
     "output_type": "execute_result"
    }
   ],
   "source": [
    "cars_data1.isna().sum()"
   ]
  },
  {
   "cell_type": "code",
   "execution_count": 10,
   "id": "c7cd2fec",
   "metadata": {},
   "outputs": [
    {
     "data": {
      "text/plain": [
       "Unnamed: 0      0\n",
       "Price           0\n",
       "Age             0\n",
       "KM             15\n",
       "FuelType      100\n",
       "HP              6\n",
       "MetColor      150\n",
       "Automatic       0\n",
       "CC              0\n",
       "Doors           0\n",
       "Weight          0\n",
       "dtype: int64"
      ]
     },
     "execution_count": 10,
     "metadata": {},
     "output_type": "execute_result"
    }
   ],
   "source": [
    "cars_data1.isnull().sum()\n",
    "missing=cars_data1[cars_data1.isnull().any(axis=1)]\n",
    "mean_age = cars_data1['Age'].mean()\n",
    "cars_data1['Age'].fillna(cars_data1['Age'].mean(),inplace=True)\n",
    "cars_data1.isna().sum()"
   ]
  },
  {
   "cell_type": "code",
   "execution_count": 11,
   "id": "1dcaaf69",
   "metadata": {},
   "outputs": [
    {
     "data": {
      "text/plain": [
       "Unnamed: 0      0\n",
       "Price           0\n",
       "Age             0\n",
       "KM              0\n",
       "FuelType      100\n",
       "HP              6\n",
       "MetColor      150\n",
       "Automatic       0\n",
       "CC              0\n",
       "Doors           0\n",
       "Weight          0\n",
       "dtype: int64"
      ]
     },
     "execution_count": 11,
     "metadata": {},
     "output_type": "execute_result"
    }
   ],
   "source": [
    "missing=cars_data1[cars_data1.isnull().any(axis=1)]\n",
    "mean_age = cars_data1['KM'].mean()\n",
    "cars_data1['KM'].fillna(cars_data1['KM'].mean(),inplace=True)\n",
    "cars_data1.isna().sum()"
   ]
  },
  {
   "cell_type": "code",
   "execution_count": 12,
   "id": "eb429a2f",
   "metadata": {},
   "outputs": [
    {
     "data": {
      "text/plain": [
       "Unnamed: 0      0\n",
       "Price           0\n",
       "Age             0\n",
       "KM              0\n",
       "FuelType      100\n",
       "HP              0\n",
       "MetColor      150\n",
       "Automatic       0\n",
       "CC              0\n",
       "Doors           0\n",
       "Weight          0\n",
       "dtype: int64"
      ]
     },
     "execution_count": 12,
     "metadata": {},
     "output_type": "execute_result"
    }
   ],
   "source": [
    "missing=cars_data1[cars_data1.isnull().any(axis=1)]\n",
    "mean_age = cars_data1['HP'].mean()\n",
    "cars_data1['HP'].fillna(cars_data1['HP'].mean(),inplace=True)\n",
    "cars_data1.isna().sum()"
   ]
  },
  {
   "cell_type": "code",
   "execution_count": 13,
   "id": "b5c0e059",
   "metadata": {},
   "outputs": [
    {
     "data": {
      "text/plain": [
       "Petrol    1177\n",
       "Diesel     144\n",
       "CNG         15\n",
       "Name: FuelType, dtype: int64"
      ]
     },
     "execution_count": 13,
     "metadata": {},
     "output_type": "execute_result"
    }
   ],
   "source": [
    "cars_data1['FuelType'].value_counts()"
   ]
  },
  {
   "cell_type": "code",
   "execution_count": 14,
   "id": "cbc2edfd",
   "metadata": {},
   "outputs": [
    {
     "data": {
      "text/plain": [
       "Unnamed: 0      0\n",
       "Price           0\n",
       "Age             0\n",
       "KM              0\n",
       "FuelType        0\n",
       "HP              0\n",
       "MetColor      150\n",
       "Automatic       0\n",
       "CC              0\n",
       "Doors           0\n",
       "Weight          0\n",
       "dtype: int64"
      ]
     },
     "execution_count": 14,
     "metadata": {},
     "output_type": "execute_result"
    }
   ],
   "source": [
    "cars_data1['FuelType'].fillna('Petrol',inplace=True)\n",
    "cars_data1.isna().sum()"
   ]
  },
  {
   "cell_type": "code",
   "execution_count": 15,
   "id": "06846fe4",
   "metadata": {},
   "outputs": [
    {
     "data": {
      "text/plain": [
       "Unnamed: 0    0\n",
       "Price         0\n",
       "Age           0\n",
       "KM            0\n",
       "FuelType      0\n",
       "HP            0\n",
       "MetColor      0\n",
       "Automatic     0\n",
       "CC            0\n",
       "Doors         0\n",
       "Weight        0\n",
       "dtype: int64"
      ]
     },
     "execution_count": 15,
     "metadata": {},
     "output_type": "execute_result"
    }
   ],
   "source": [
    "cars_data1['MetColor'].mode()\n",
    "cars_data1['MetColor'].fillna(value = cars_data1['MetColor'].mode().index[0],inplace=True)\n",
    "cars_data1.isna().sum()"
   ]
  },
  {
   "cell_type": "code",
   "execution_count": 16,
   "id": "344ea697",
   "metadata": {},
   "outputs": [
    {
     "data": {
      "text/plain": [
       "(array([ 21.,  35.,  60.,  61., 101., 123., 266., 233., 265., 271.]),\n",
       " array([ 1. ,  8.9, 16.8, 24.7, 32.6, 40.5, 48.4, 56.3, 64.2, 72.1, 80. ]),\n",
       " <BarContainer object of 10 artists>)"
      ]
     },
     "execution_count": 16,
     "metadata": {},
     "output_type": "execute_result"
    },
    {
     "data": {
      "image/png": "[encoded data removed]",
      "text/plain": [
       "<Figure size 432x288 with 1 Axes>"
      ]
     },
     "metadata": {
      "needs_background": "light"
     },
     "output_type": "display_data"
    }
   ],
   "source": [
    "plt.scatter(cars_data1['Age'],cars_data1['Price'],c='red')\n",
    "plt.hist(cars_data1['Age'])"
   ]
  },
  {
   "cell_type": "code",
   "execution_count": 17,
   "id": "b2517a26",
   "metadata": {},
   "outputs": [
    {
     "data": {
      "text/plain": [
       "<AxesSubplot:ylabel='HP'>"
      ]
     },
     "execution_count": 17,
     "metadata": {},
     "output_type": "execute_result"
    },
    {
     "data": {
      "image/png": "[encoded data removed]",
      "text/plain": [
       "<Figure size 432x288 with 1 Axes>"
      ]
     },
     "metadata": {
      "needs_background": "light"
     },
     "output_type": "display_data"
    }
   ],
   "source": [
    "import seaborn as sns\n",
    "sns.boxplot(y=cars_data1['Price'])\n",
    "sns.boxplot(y =cars_data1['HP'])"
   ]
  },
  {
   "cell_type": "markdown",
   "id": "c48a662b",
   "metadata": {},
   "source": [
    "# Conclusion:"
   ]
  },
  {
   "cell_type": "markdown",
   "id": "b03b7e74",
   "metadata": {},
   "source": [
    "Hence we successfully Implementing Data Exploration and Data preprocessing using Python"
   ]
  }
 ],
 "metadata": {
  "kernelspec": {
   "display_name": "Python 3",
   "language": "python",
   "name": "python3"
  },
  "language_info": {
   "codemirror_mode": {
    "name": "ipython",
    "version": 3
   },
   "file_extension": ".py",
   "mimetype": "text/x-python",
   "name": "python",
   "nbconvert_exporter": "python",
   "pygments_lexer": "ipython3",
   "version": "3.9.2"
  }
 },
 "nbformat": 4,
 "nbformat_minor": 5
}
