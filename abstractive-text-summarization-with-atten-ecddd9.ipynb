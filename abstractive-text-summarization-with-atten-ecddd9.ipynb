{
 "cells": [
  {
   "cell_type": "markdown",
   "metadata": {},
   "source": [
    "# What is Abstractive Text Summarization?"
   ]
  },
  {
   "cell_type": "markdown",
   "metadata": {},
   "source": [
    "**Text Summarization - as the name suggests - involves generating short summaries of text data, in a few words or sentences. A good example of this in day-to-day life is the Inshorts news summary app, which generates summaries upto max of ~ 60 words.**\n",
    "* Extractive Summarization: This involves using the exact same sentences from the text in the summary, hence extractive.\n",
    "* Abstractive Summarization: Here, we capture the semantics of the sentence, and generate summaries using words, which could come from anywhere in our data      vocabulary."
   ]
  },
  {
   "cell_type": "markdown",
   "metadata": {},
   "source": [
    "**The following dataset will be used for abstractive text summarization:**\n",
    "[Kaggle Abstractive Text Summarization](https://www.kaggle.com/sunnysai12345/news-summary)"
   ]
  },
  {
   "cell_type": "markdown",
   "metadata": {},
   "source": [
    "# I. Importing Libraries and Data"
   ]
  },
  {
   "cell_type": "code",
   "execution_count": 11,
   "metadata": {
    "_cell_guid": "b1076dfc-b9ad-4769-8c92-a6c4dae69d19",
    "_uuid": "8f2839f25d086af736a60e9eeb907d3b93b6e0e5",
    "execution": {
     "iopub.execute_input": "2022-04-25T16:33:00.312514Z",
     "iopub.status.busy": "2022-04-25T16:33:00.312166Z",
     "iopub.status.idle": "2022-04-25T16:33:00.319976Z",
     "shell.execute_reply": "2022-04-25T16:33:00.319017Z",
     "shell.execute_reply.started": "2022-04-25T16:33:00.312478Z"
    }
   },
   "outputs": [],
   "source": [
    "# This Python 3 environment comes with many helpful analytics libraries installed\n",
    "# It is defined by the kaggle/python Docker image: https://github.com/kaggle/docker-python\n",
    "# For example, here's several helpful packages to load\n",
    "\n",
    "import numpy as np # linear algebra\n",
    "import pandas as pd # data processing, CSV file I/O (e.g. pd.read_csv)\n",
    "\n",
    "# Input data files are available in the read-only \"../input/\" directory\n",
    "# For example, running this (by clicking run or pressing Shift+Enter) will list all files under the input directory\n",
    "\n",
    "import os\n",
    "for dirname, _, filenames in os.walk('/kaggle/input'):\n",
    "    for filename in filenames:\n",
    "        print(os.path.join(dirname, filename))\n",
    "\n",
    "# You can write up to 20GB to the current directory (/kaggle/working/) that gets preserved as output when you create a version using \"Save & Run All\" \n",
    "# You can also write temporary files to /kaggle/temp/, but they won't be saved outside of the current session"
   ]
  },
  {
   "cell_type": "code",
   "execution_count": 12,
   "metadata": {
    "execution": {
     "iopub.execute_input": "2022-04-25T16:33:00.324092Z",
     "iopub.status.busy": "2022-04-25T16:33:00.323796Z",
     "iopub.status.idle": "2022-04-25T16:33:00.333889Z",
     "shell.execute_reply": "2022-04-25T16:33:00.333114Z",
     "shell.execute_reply.started": "2022-04-25T16:33:00.324065Z"
    }
   },
   "outputs": [],
   "source": [
    "import tensorflow as tf\n",
    "import keras\n",
    "from keras import backend as K\n",
    "from keras.layers import Layer\n",
    "from keras.layers import Concatenate\n",
    "from keras.preprocessing.text import Tokenizer\n",
    "from keras.preprocessing.sequence import pad_sequences\n",
    "from keras.layers import Dense, TimeDistributed, LSTM, Embedding, Input\n",
    "from keras import Model\n",
    "import re\n",
    "import string\n",
    "from nltk.corpus import stopwords\n",
    "from nltk.translate.bleu_score import sentence_bleu\n",
    "from nltk.translate.bleu_score import SmoothingFunction\n",
    "from sklearn.model_selection import train_test_split"
   ]
  },
  {
   "cell_type": "code",
   "execution_count": 13,
   "metadata": {
    "_cell_guid": "79c7e3d0-c299-4dcb-8224-4455121ee9b0",
    "_uuid": "d629ff2d2480ee46fbb7e2d37f6b5fab8052498a",
    "execution": {
     "iopub.execute_input": "2022-04-25T16:33:00.335356Z",
     "iopub.status.busy": "2022-04-25T16:33:00.335102Z",
     "iopub.status.idle": "2022-04-25T16:33:00.961769Z",
     "shell.execute_reply": "2022-04-25T16:33:00.960900Z",
     "shell.execute_reply.started": "2022-04-25T16:33:00.335330Z"
    }
   },
   "outputs": [],
   "source": [
    "data = pd.read_csv('/kaggle/input/news-summary/news_summary.csv', encoding='latin-1')\n",
    "data_more = pd.read_csv('/kaggle/input/news-summary/news_summary_more.csv', encoding='latin-1')\n",
    "data = pd.concat([data, data_more], axis=0).reset_index(drop=True)\n",
    "data"
   ]
  },
  {
   "cell_type": "markdown",
   "metadata": {},
   "source": [
    "# II. Data Preprocessing"
   ]
  },
  {
   "cell_type": "code",
   "execution_count": 14,
   "metadata": {
    "execution": {
     "iopub.execute_input": "2022-04-25T16:33:00.964368Z",
     "iopub.status.busy": "2022-04-25T16:33:00.964107Z",
     "iopub.status.idle": "2022-04-25T16:33:00.978819Z",
     "shell.execute_reply": "2022-04-25T16:33:00.977769Z",
     "shell.execute_reply.started": "2022-04-25T16:33:00.964343Z"
    }
   },
   "outputs": [],
   "source": [
    "contraction_mapping = {\"ain't\": \"is not\", \"aren't\": \"are not\",\"can't\": \"cannot\", \"'cause\": \"because\", \"could've\": \"could have\", \"couldn't\": \"could not\",\n",
    "\n",
    "                           \"didn't\": \"did not\", \"doesn't\": \"does not\", \"don't\": \"do not\", \"hadn't\": \"had not\", \"hasn't\": \"has not\", \"haven't\": \"have not\",\n",
    "\n",
    "                           \"he'd\": \"he would\",\"he'll\": \"he will\", \"he's\": \"he is\", \"how'd\": \"how did\", \"how'd'y\": \"how do you\", \"how'll\": \"how will\", \"how's\": \"how is\",\n",
    "\n",
    "                           \"I'd\": \"I would\", \"I'd've\": \"I would have\", \"I'll\": \"I will\", \"I'll've\": \"I will have\",\"I'm\": \"I am\", \"I've\": \"I have\", \"i'd\": \"i would\",\n",
    "\n",
    "                           \"i'd've\": \"i would have\", \"i'll\": \"i will\",  \"i'll've\": \"i will have\",\"i'm\": \"i am\", \"i've\": \"i have\", \"isn't\": \"is not\", \"it'd\": \"it would\",\n",
    "\n",
    "                           \"it'd've\": \"it would have\", \"it'll\": \"it will\", \"it'll've\": \"it will have\",\"it's\": \"it is\", \"let's\": \"let us\", \"ma'am\": \"madam\",\n",
    "\n",
    "                           \"mayn't\": \"may not\", \"might've\": \"might have\",\"mightn't\": \"might not\",\"mightn't've\": \"might not have\", \"must've\": \"must have\",\n",
    "\n",
    "                           \"mustn't\": \"must not\", \"mustn't've\": \"must not have\", \"needn't\": \"need not\", \"needn't've\": \"need not have\",\"o'clock\": \"of the clock\",\n",
    "\n",
    "                           \"oughtn't\": \"ought not\", \"oughtn't've\": \"ought not have\", \"shan't\": \"shall not\", \"sha'n't\": \"shall not\", \"shan't've\": \"shall not have\",\n",
    "\n",
    "                           \"she'd\": \"she would\", \"she'd've\": \"she would have\", \"she'll\": \"she will\", \"she'll've\": \"she will have\", \"she's\": \"she is\",\n",
    "\n",
    "                           \"should've\": \"should have\", \"shouldn't\": \"should not\", \"shouldn't've\": \"should not have\", \"so've\": \"so have\",\"so's\": \"so as\",\n",
    "\n",
    "                           \"this's\": \"this is\",\"that'd\": \"that would\", \"that'd've\": \"that would have\", \"that's\": \"that is\", \"there'd\": \"there would\",\n",
    "\n",
    "                           \"there'd've\": \"there would have\", \"there's\": \"there is\", \"here's\": \"here is\",\"they'd\": \"they would\", \"they'd've\": \"they would have\",\n",
    "\n",
    "                           \"they'll\": \"they will\", \"they'll've\": \"they will have\", \"they're\": \"they are\", \"they've\": \"they have\", \"to've\": \"to have\",\n",
    "\n",
    "                           \"wasn't\": \"was not\", \"we'd\": \"we would\", \"we'd've\": \"we would have\", \"we'll\": \"we will\", \"we'll've\": \"we will have\", \"we're\": \"we are\",\n",
    "\n",
    "                           \"we've\": \"we have\", \"weren't\": \"were not\", \"what'll\": \"what will\", \"what'll've\": \"what will have\", \"what're\": \"what are\",\n",
    "\n",
    "                           \"what's\": \"what is\", \"what've\": \"what have\", \"when's\": \"when is\", \"when've\": \"when have\", \"where'd\": \"where did\", \"where's\": \"where is\",\n",
    "\n",
    "                           \"where've\": \"where have\", \"who'll\": \"who will\", \"who'll've\": \"who will have\", \"who's\": \"who is\", \"who've\": \"who have\",\n",
    "\n",
    "                           \"why's\": \"why is\", \"why've\": \"why have\", \"will've\": \"will have\", \"won't\": \"will not\", \"won't've\": \"will not have\",\n",
    "\n",
    "                           \"would've\": \"would have\", \"wouldn't\": \"would not\", \"wouldn't've\": \"would not have\", \"y'all\": \"you all\",\n",
    "\n",
    "                           \"y'all'd\": \"you all would\",\"y'all'd've\": \"you all would have\",\"y'all're\": \"you all are\",\"y'all've\": \"you all have\",\n",
    "\n",
    "                           \"you'd\": \"you would\", \"you'd've\": \"you would have\", \"you'll\": \"you will\", \"you'll've\": \"you will have\",\n",
    "\n",
    "                           \"you're\": \"you are\", \"you've\": \"you have\"}"
   ]
  },
  {
   "cell_type": "code",
   "execution_count": 15,
   "metadata": {
    "execution": {
     "iopub.execute_input": "2022-04-25T16:33:00.980978Z",
     "iopub.status.busy": "2022-04-25T16:33:00.980692Z",
     "iopub.status.idle": "2022-04-25T16:33:08.299203Z",
     "shell.execute_reply": "2022-04-25T16:33:08.297989Z",
     "shell.execute_reply.started": "2022-04-25T16:33:00.980951Z"
    }
   },
   "outputs": [],
   "source": [
    "StopWords = set(stopwords.words('english'))\n",
    "def preprocess(text):\n",
    "    new_text = text.lower() #Lowercasing text.\n",
    "    new_text = re.sub(r'\\([^)]*\\)', '', new_text) #Removing punctuations and special characters.\n",
    "    new_text = re.sub('\"','', new_text) #Removing double quotes.\n",
    "    new_text = ' '.join([contraction_mapping[t] if t in contraction_mapping else t for t in new_text.split(\" \")]) #Replacing contractions.   \n",
    "    new_text = re.sub(r\"'s\\b\",\"\",new_text) #Eliminating apostrophe.\n",
    "    new_text = re.sub(\"[^a-zA-Z]\", \" \", new_text) #Removing non-alphabetical characters\n",
    "    new_text = ' '.join([word for word in new_text.split() if word not in StopWords]) #Removing stopwords.\n",
    "    new_text = ' '.join([word for word in new_text.split() if len(word) >= 3]) #Removing very short words\n",
    "    return new_text\n",
    "\n",
    "#Apply above preprocessing to both text and summary separately.\n",
    "text_cleaned = []\n",
    "summ_cleaned = []\n",
    "for text in data['text']:\n",
    "    text_cleaned.append(preprocess(text))\n",
    "for summary in data['headlines']:\n",
    "    summ_cleaned.append(preprocess(summary))\n",
    "clean_df = pd.DataFrame()\n",
    "clean_df['text'] = text_cleaned\n",
    "clean_df['headline'] = summ_cleaned\n",
    "\n",
    "#Replacing empty string summaries with nan values and then dropping those datapoints.\n",
    "clean_df['headline'].replace('', np.nan, inplace=True)\n",
    "clean_df.dropna(axis=0, inplace=True)\n",
    "\n",
    "#Adding START and END tokens to summaries for later use.\n",
    "clean_df['headline'] = clean_df['headline'].apply(lambda x: '<START>' + ' '+ x + ' '+ '<END>')\n",
    "for i in range(10):\n",
    "    print('News: ', clean_df['text'][i])\n",
    "    print('Headline:', clean_df['headline'][i])\n",
    "    print('\\n')"
   ]
  },
  {
   "cell_type": "code",
   "execution_count": 16,
   "metadata": {
    "execution": {
     "iopub.execute_input": "2022-04-25T16:33:08.301386Z",
     "iopub.status.busy": "2022-04-25T16:33:08.300984Z",
     "iopub.status.idle": "2022-04-25T16:33:08.621322Z",
     "shell.execute_reply": "2022-04-25T16:33:08.620359Z",
     "shell.execute_reply.started": "2022-04-25T16:33:08.301342Z"
    }
   },
   "outputs": [],
   "source": [
    "#Get max length of texts and summaries.\n",
    "max_len_news = max([len(text.split()) for text in clean_df['text']])\n",
    "max_len_headline = max([len(text.split()) for text in clean_df['headline']])\n",
    "print(max_len_news, max_len_headline)"
   ]
  },
  {
   "cell_type": "markdown",
   "metadata": {},
   "source": [
    "# III. Tokenization and Data Split"
   ]
  },
  {
   "cell_type": "code",
   "execution_count": 17,
   "metadata": {
    "execution": {
     "iopub.execute_input": "2022-04-25T16:33:08.623655Z",
     "iopub.status.busy": "2022-04-25T16:33:08.623254Z",
     "iopub.status.idle": "2022-04-25T16:33:17.568084Z",
     "shell.execute_reply": "2022-04-25T16:33:17.567135Z",
     "shell.execute_reply.started": "2022-04-25T16:33:08.623615Z"
    }
   },
   "outputs": [],
   "source": [
    "X_train, X_test, y_train, y_test = train_test_split(clean_df['text'], clean_df['headline'], test_size=0.2, random_state=0)\n",
    "\n",
    "#Keras tokenizer for news text.\n",
    "news_tokenizer = Tokenizer()\n",
    "news_tokenizer.fit_on_texts(list(X_train))\n",
    "x_train_seq = news_tokenizer.texts_to_sequences(X_train)\n",
    "x_test_seq = news_tokenizer.texts_to_sequences(X_test)\n",
    "x_train_pad = pad_sequences(x_train_seq, maxlen=max_len_news, padding='post') #Post padding short texts with 0s.\n",
    "x_test_pad = pad_sequences(x_test_seq, maxlen=max_len_news, padding='post')\n",
    "#Vocab size of texts.\n",
    "news_vocab = len(news_tokenizer.word_index) + 1\n",
    "\n",
    "#Keras Tokenizer for summaries.\n",
    "headline_tokenizer = Tokenizer()\n",
    "headline_tokenizer.fit_on_texts(list(y_train))\n",
    "y_train_seq = headline_tokenizer.texts_to_sequences(y_train)\n",
    "y_test_seq = headline_tokenizer.texts_to_sequences(y_test)\n",
    "y_train_pad = pad_sequences(y_train_seq, maxlen=max_len_headline, padding='post')\n",
    "y_test_pad = pad_sequences(y_test_seq, maxlen=max_len_headline, padding='post')\n",
    "#Vocab size of summaries.\n",
    "headline_vocab = len(headline_tokenizer.word_index) + 1"
   ]
  },
  {
   "cell_type": "markdown",
   "metadata": {},
   "source": [
    "# **[Attention Layer Reference](https://github.com/jananiarunachalam/Research-Paper-Summarization/blob/master/Abstractive_Summarization.ipynb)**"
   ]
  },
  {
   "cell_type": "markdown",
   "metadata": {},
   "source": [
    " # IV. Training Model (Encoder-Decoder Architecture)"
   ]
  },
  {
   "cell_type": "code",
   "execution_count": 18,
   "metadata": {
    "execution": {
     "iopub.execute_input": "2022-04-25T16:33:17.569638Z",
     "iopub.status.busy": "2022-04-25T16:33:17.569350Z",
     "iopub.status.idle": "2022-04-25T16:33:17.591739Z",
     "shell.execute_reply": "2022-04-25T16:33:17.590975Z",
     "shell.execute_reply.started": "2022-04-25T16:33:17.569609Z"
    }
   },
   "outputs": [],
   "source": [
    "class AttentionLayer(Layer):\n",
    "    \"\"\"\n",
    "    This class implements Bahdanau attention (https://arxiv.org/pdf/1409.0473.pdf).\n",
    "    There are three sets of weights introduced W_a, U_a, and V_a\n",
    "     \"\"\"\n",
    "\n",
    "    def __init__(self, **kwargs):\n",
    "        super(AttentionLayer, self).__init__(**kwargs)\n",
    "\n",
    "    def build(self, input_shape):\n",
    "        assert isinstance(input_shape, list)\n",
    "        # Create a trainable weight variable for this layer.\n",
    "\n",
    "        self.W_a = self.add_weight(name='W_a',\n",
    "                                   shape=tf.TensorShape((input_shape[0][2], input_shape[0][2])),\n",
    "                                   initializer='uniform',\n",
    "                                   trainable=True)\n",
    "        self.U_a = self.add_weight(name='U_a',\n",
    "                                   shape=tf.TensorShape((input_shape[1][2], input_shape[0][2])),\n",
    "                                   initializer='uniform',\n",
    "                                   trainable=True)\n",
    "        self.V_a = self.add_weight(name='V_a',\n",
    "                                   shape=tf.TensorShape((input_shape[0][2], 1)),\n",
    "                                   initializer='uniform',\n",
    "                                   trainable=True)\n",
    "\n",
    "        super(AttentionLayer, self).build(input_shape)  # Be sure to call this at the end\n",
    "\n",
    "    def call(self, inputs, verbose=False):\n",
    "        \"\"\"\n",
    "        inputs: [encoder_output_sequence, decoder_output_sequence]\n",
    "        \"\"\"\n",
    "        assert type(inputs) == list\n",
    "        encoder_out_seq, decoder_out_seq = inputs\n",
    "        if verbose:\n",
    "            print('encoder_out_seq>', encoder_out_seq.shape)\n",
    "            print('decoder_out_seq>', decoder_out_seq.shape)\n",
    "\n",
    "        def energy_step(inputs, states):\n",
    "            \"\"\" Step function for computing energy for a single decoder state \"\"\"\n",
    "\n",
    "            assert_msg = \"States must be a list. However states {} is of type {}\".format(states, type(states))\n",
    "            assert isinstance(states, list) or isinstance(states, tuple), assert_msg\n",
    "\n",
    "            \"\"\" Some parameters required for shaping tensors\"\"\"\n",
    "            en_seq_len, en_hidden = encoder_out_seq.shape[1], encoder_out_seq.shape[2]\n",
    "            de_hidden = inputs.shape[-1]\n",
    "\n",
    "            \"\"\" Computing S.Wa where S=[s0, s1, ..., si]\"\"\"\n",
    "            # <= batch_size*en_seq_len, latent_dim\n",
    "            reshaped_enc_outputs = K.reshape(encoder_out_seq, (-1, en_hidden))\n",
    "            # <= batch_size*en_seq_len, latent_dim\n",
    "            W_a_dot_s = K.reshape(K.dot(reshaped_enc_outputs, self.W_a), (-1, en_seq_len, en_hidden))\n",
    "            if verbose:\n",
    "                print('wa.s>',W_a_dot_s.shape)\n",
    "\n",
    "            \"\"\" Computing hj.Ua \"\"\"\n",
    "            U_a_dot_h = K.expand_dims(K.dot(inputs, self.U_a), 1)  # <= batch_size, 1, latent_dim\n",
    "            if verbose:\n",
    "                print('Ua.h>',U_a_dot_h.shape)\n",
    "\n",
    "            \"\"\" tanh(S.Wa + hj.Ua) \"\"\"\n",
    "            # <= batch_size*en_seq_len, latent_dim\n",
    "            reshaped_Ws_plus_Uh = K.tanh(K.reshape(W_a_dot_s + U_a_dot_h, (-1, en_hidden)))\n",
    "            if verbose:\n",
    "                print('Ws+Uh>', reshaped_Ws_plus_Uh.shape)\n",
    "\n",
    "            \"\"\" softmax(va.tanh(S.Wa + hj.Ua)) \"\"\"\n",
    "            # <= batch_size, en_seq_len\n",
    "            e_i = K.reshape(K.dot(reshaped_Ws_plus_Uh, self.V_a), (-1, en_seq_len))\n",
    "            # <= batch_size, en_seq_len\n",
    "            e_i = K.softmax(e_i)\n",
    "\n",
    "            if verbose:\n",
    "                print('ei>', e_i.shape)\n",
    "\n",
    "            return e_i, [e_i]\n",
    "\n",
    "        def context_step(inputs, states):\n",
    "            \"\"\" Step function for computing ci using ei \"\"\"\n",
    "            # <= batch_size, hidden_size\n",
    "            c_i = K.sum(encoder_out_seq * K.expand_dims(inputs, -1), axis=1)\n",
    "            if verbose:\n",
    "                print('ci>', c_i.shape)\n",
    "            return c_i, [c_i]\n",
    "\n",
    "        def create_inital_state(inputs, hidden_size):\n",
    "            # We are not using initial states, but need to pass something to K.rnn funciton\n",
    "            fake_state = K.zeros_like(inputs)  # <= (batch_size, enc_seq_len, latent_dim\n",
    "            fake_state = K.sum(fake_state, axis=[1, 2])  # <= (batch_size)\n",
    "            fake_state = K.expand_dims(fake_state)  # <= (batch_size, 1)\n",
    "            fake_state = K.tile(fake_state, [1, hidden_size])  # <= (batch_size, latent_dim\n",
    "            return fake_state\n",
    "\n",
    "        fake_state_c = create_inital_state(encoder_out_seq, encoder_out_seq.shape[-1])\n",
    "        fake_state_e = create_inital_state(encoder_out_seq, encoder_out_seq.shape[1])  # <= (batch_size, enc_seq_len, latent_dim\n",
    "\n",
    "        \"\"\" Computing energy outputs \"\"\"\n",
    "        # e_outputs => (batch_size, de_seq_len, en_seq_len)\n",
    "        last_out, e_outputs, _ = K.rnn(\n",
    "            energy_step, decoder_out_seq, [fake_state_e],\n",
    "        )\n",
    "\n",
    "        \"\"\" Computing context vectors \"\"\"\n",
    "        last_out, c_outputs, _ = K.rnn(\n",
    "            context_step, e_outputs, [fake_state_c],\n",
    "        )\n",
    "\n",
    "        return c_outputs, e_outputs\n",
    "\n",
    "    def compute_output_shape(self, input_shape):\n",
    "        \"\"\" Outputs produced by the layer \"\"\"\n",
    "        return [\n",
    "            tf.TensorShape((input_shape[1][0], input_shape[1][1], input_shape[1][2])),\n",
    "            tf.TensorShape((input_shape[1][0], input_shape[1][1], input_shape[0][1]))\n",
    "        ]"
   ]
  },
  {
   "cell_type": "code",
   "execution_count": 19,
   "metadata": {
    "execution": {
     "iopub.execute_input": "2022-04-25T16:33:17.593228Z",
     "iopub.status.busy": "2022-04-25T16:33:17.592858Z",
     "iopub.status.idle": "2022-04-25T16:33:19.512985Z",
     "shell.execute_reply": "2022-04-25T16:33:19.512137Z",
     "shell.execute_reply.started": "2022-04-25T16:33:17.593200Z"
    }
   },
   "outputs": [],
   "source": [
    "K.clear_session()\n",
    "\n",
    "embedding_dim = 300 #Size of word embeddings.\n",
    "latent_dim = 500 #No. of neurons in LSTM layer.\n",
    "\n",
    "encoder_input = Input(shape=(max_len_news, ))\n",
    "encoder_emb = Embedding(news_vocab, embedding_dim, trainable=True)(encoder_input) #Embedding Layer\n",
    "\n",
    "#Three-stacked LSTM layers for encoder. Return_state returns the activation state vectors, a(t) and c(t), return_sequences return the output of the neurons y(t).\n",
    "#With layers stacked one above the other, y(t) of previous layer becomes x(t) of next layer.\n",
    "encoder_lstm1 = LSTM(latent_dim, return_sequences=True, return_state=True, dropout=0.3, recurrent_dropout=0.2)\n",
    "y_1, a_1, c_1 = encoder_lstm1(encoder_emb)\n",
    "\n",
    "encoder_lstm2 = LSTM(latent_dim, return_sequences=True, return_state=True, dropout=0.3, recurrent_dropout=0.2)\n",
    "y_2, a_2, c_2 = encoder_lstm2(y_1)\n",
    "\n",
    "encoder_lstm3 = LSTM(latent_dim, return_sequences=True, return_state=True, dropout=0.3, recurrent_dropout=0.2)\n",
    "encoder_output, a_enc, c_enc = encoder_lstm3(y_2)\n",
    "\n",
    "#Single LSTM layer for decoder followed by Dense softmax layer to predict the next word in summary.\n",
    "decoder_input = Input(shape=(None,))\n",
    "decoder_emb = Embedding(headline_vocab, embedding_dim, trainable=True)(decoder_input)\n",
    "\n",
    "decoder_lstm = LSTM(latent_dim, return_sequences=True, return_state=True, dropout=0.3, recurrent_dropout=0.2)\n",
    "decoder_output, decoder_fwd, decoder_back = decoder_lstm(decoder_emb, initial_state=[a_enc, c_enc]) #Final output states of encoder last layer are fed into decoder.\n",
    "\n",
    "#Attention Layer\n",
    "attn_layer = AttentionLayer(name='attention_layer') \n",
    "attn_out, attn_states = attn_layer([encoder_output, decoder_output]) \n",
    "\n",
    "decoder_concat_input = Concatenate(axis=-1, name='concat_layer')([decoder_output, attn_out])\n",
    "\n",
    "decoder_dense = TimeDistributed(Dense(headline_vocab, activation='softmax'))\n",
    "decoder_output = decoder_dense(decoder_concat_input)\n",
    "\n",
    "model = Model([encoder_input, decoder_input], decoder_output)\n",
    "model.summary()\n"
   ]
  },
  {
   "cell_type": "code",
   "execution_count": null,
   "metadata": {
    "execution": {
     "iopub.execute_input": "2022-04-25T16:33:19.514731Z",
     "iopub.status.busy": "2022-04-25T16:33:19.514458Z"
    }
   },
   "outputs": [],
   "source": [
    "#Training the model with Early Stopping callback on val_loss.\n",
    "model.compile(optimizer='rmsprop', loss='sparse_categorical_crossentropy')\n",
    "callback = keras.callbacks.EarlyStopping(monitor='val_loss', mode='min', verbose=1, patience=2)\n",
    "history=model.fit([x_train_pad,y_train_pad[:,:-1]], y_train_pad.reshape(y_train_pad.shape[0],y_train_pad.shape[1], 1)[:,1:] ,epochs=1,callbacks=[callback],batch_size=512, validation_data=([x_test_pad,y_test_pad[:,:-1]], y_test_pad.reshape(y_test_pad.shape[0],y_test_pad.shape[1], 1)[:,1:]))"
   ]
  },
  {
   "cell_type": "markdown",
   "metadata": {},
   "source": [
    "# V. Inference Stage: Making Predictions!"
   ]
  },
  {
   "cell_type": "code",
   "execution_count": null,
   "metadata": {},
   "outputs": [],
   "source": [
    "#Encoder inference model with trained inputs and outputs.\n",
    "encoder_model = Model(inputs=encoder_input, outputs=[encoder_output, a_enc, c_enc])\n",
    "\n",
    "#Initialising state vectors for decoder.\n",
    "decoder_initial_state_a = Input(shape=(latent_dim,))\n",
    "decoder_initial_state_c = Input(shape=(latent_dim,))\n",
    "decoder_hidden_state = Input(shape=(max_len_news, latent_dim))\n",
    "\n",
    "#Decoder inference model\n",
    "decoder_out, decoder_a, decoder_c = decoder_lstm(decoder_emb, initial_state=[decoder_initial_state_a, decoder_initial_state_c])\n",
    "attn_out_inf, attn_states_inf = attn_layer([decoder_hidden_state, decoder_out])\n",
    "decoder_inf_concat = Concatenate(axis=-1, name='concat')([decoder_out, attn_out_inf])\n",
    "\n",
    "decoder_final = decoder_dense(decoder_inf_concat)\n",
    "decoder_model = Model([decoder_input]+[decoder_hidden_state, decoder_initial_state_a, decoder_initial_state_c], [decoder_final]+[decoder_a, decoder_c])"
   ]
  },
  {
   "cell_type": "code",
   "execution_count": null,
   "metadata": {},
   "outputs": [],
   "source": [
    "#Function to generate output summaries.\n",
    "def decoded_sequence(input_seq):\n",
    "    encoder_out, encoder_a, encoder_c = encoder_model.predict(input_seq) #Collecting output from encoder inference model.\n",
    "    #Initialise input to decoder neuron with START token. Thereafter output token predicted by each neuron will be used as input for the subsequent.\n",
    "    #Single elt matrix used for maintaining dimensions.\n",
    "    next_input = np.zeros((1,1))\n",
    "    next_input[0,0] = headline_tokenizer.word_index['start']\n",
    "    output_seq = ''\n",
    "    #Stopping condition to terminate loop when one summary is generated.\n",
    "    stop = False\n",
    "    while not stop:\n",
    "        #Output from decoder inference model, with output states of encoder used for initialisation.\n",
    "        decoded_out, trans_state_a, trans_state_c = decoder_model.predict([next_input] + [encoder_out, encoder_a, encoder_c])\n",
    "        #Get index of output token from y(t) of decoder.\n",
    "        output_idx = np.argmax(decoded_out[0, -1, :])\n",
    "        #If output index corresponds to END token, summary is terminated without of course adding the END token itself.\n",
    "        if output_idx == headline_tokenizer.word_index['end']: \n",
    "            stop = True\n",
    "        elif output_idx>0 and output_idx != headline_tokenizer.word_index['start'] :\n",
    "            output_token = headline_tokenizer.index_word[output_idx] #Generate the token from index.\n",
    "            output_seq = output_seq + ' ' + output_token #Append to summary\n",
    "        \n",
    "        #Pass the current output index as input to next neuron.\n",
    "        next_input[0,0] = output_idx\n",
    "        #Continously update the transient state vectors in decoder.\n",
    "        encoder_a, encoder_c = trans_state_a, trans_state_c\n",
    "        \n",
    "    return output_seq        "
   ]
  },
  {
   "cell_type": "code",
   "execution_count": null,
   "metadata": {},
   "outputs": [],
   "source": [
    "#Print predicted summmaries and actual summaries for 10 texts. \n",
    "#We see that some of the summaries go a bit off topic, but the domain concerned, eg. politics, cricket, etc. remains largely same. \n",
    "#Further improvements can be done with Attention mechanisms, where each subsequent word generated in the summary receives different weightage\n",
    "#from earlier generated words.\n",
    "predicted = []\n",
    "for i in range(15):\n",
    "    print('News:', X_test.iloc[i])\n",
    "    print('Actual Headline:', y_test.iloc[i])\n",
    "    print('Predicted Headline:', decoded_sequence(x_test_pad[i].reshape(1, max_len_news)))\n",
    "    predicted.append(decoded_sequence(x_test_pad[i].reshape(1, max_len_news)).split())"
   ]
  },
  {
   "cell_type": "markdown",
   "metadata": {},
   "source": [
    "# VI. Evaluation- BLEU score\n",
    "    (BLEU - Bilingual Evaluation Understudy: commonly used for such seq2seq tasks like Machine Translation)"
   ]
  },
  {
   "cell_type": "markdown",
   "metadata": {},
   "source": [
    "* BLEU score, evaluated between 0 to 1, checks how much the predicted sequence is similar to 1 or more reference sequences, in this case our y_test data.\n",
    "* Naively, it is the ratio of: No. of words in machine output matching with ref / Total words in machine output. \n",
    "* A modified version involves clipping the count of matches if a word is present is more often in the machine output than in the reference. \n",
    "   Ex: \n",
    "       The cat is on the mat (Reference)\n",
    "       the the the the  (Machine output)\n",
    "       As per the naive evaluation, the BLEU score would be 1, since all the's appear in the reference. But we clip that count to just 2 (see why?), and get 0.5.\n",
    "* Further, if the machine output is shorter than the reference, a Brevity Penalty(BP) is applied to the BLEU. \n",
    "           BP = exp(1 - r/c), where r is len(reference) and c is len(candidate output).\n",
    "  In case of longer candidates, the BLEU score already penalises it adequately in the modified case.\n",
    "* Here, we use the BLEU metric available in the NLTK library."
   ]
  },
  {
   "cell_type": "code",
   "execution_count": null,
   "metadata": {},
   "outputs": [],
   "source": [
    "summaries = list(y_test)\n",
    "references = []\n",
    "for summ in summaries:\n",
    "    ref = summ.split()\n",
    "    ref.remove('<START>')\n",
    "    ref.remove('<END>')\n",
    "    references.append(ref)"
   ]
  },
  {
   "cell_type": "code",
   "execution_count": null,
   "metadata": {},
   "outputs": [],
   "source": [
    "refs = []\n",
    "smooth = SmoothingFunction().method4\n",
    "for i in range(15):\n",
    "    refs.append(references[i])\n",
    "    print(refs, predicted[i])\n",
    "    print(sentence_bleu(refs, predicted[i], weights=(0.25,0.25,0.25,0.25)))\n",
    "    refs.remove(references[i])"
   ]
  }
 ],
 "metadata": {
  "kernelspec": {
   "display_name": "Python 3",
   "language": "python",
   "name": "python3"
  },
  "language_info": {
   "codemirror_mode": {
    "name": "ipython",
    "version": 3
   },
   "file_extension": ".py",
   "mimetype": "text/x-python",
   "name": "python",
   "nbconvert_exporter": "python",
   "pygments_lexer": "ipython3",
   "version": "3.9.2"
  }
 },
 "nbformat": 4,
 "nbformat_minor": 4
}
